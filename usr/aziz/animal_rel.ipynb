{
 "cells": [
  {
   "cell_type": "code",
   "execution_count": 1,
   "metadata": {},
   "outputs": [],
   "source": [
    "import pandas as pd"
   ]
  },
  {
   "cell_type": "code",
   "execution_count": 2,
   "metadata": {},
   "outputs": [],
   "source": [
    "#To control if we print the data\n",
    "debug_flag = True"
   ]
  },
  {
   "cell_type": "code",
   "execution_count": 3,
   "metadata": {},
   "outputs": [],
   "source": [
    "#Reading the CSV file\n",
    "data_animal = pd.read_csv(\"resources/austin_animal.csv\", encoding='utf-8')"
   ]
  },
  {
   "cell_type": "code",
   "execution_count": 4,
   "metadata": {},
   "outputs": [
    {
     "name": "stdout",
     "output_type": "stream",
     "text": [
      "  Animal ID                                     Found Location  \\\n",
      "0   A793052  2005 WILLOW CREEK DR\\nAUSTIN 78741\\n(30.232387...   \n",
      "1   A804218  UNIVERSITY CLUB DRIVE AUSTIN 78732\\n(30.370203...   \n",
      "2   A804654  4434 FRONTIER TRAIL\\nAUSTIN 78745\\n(30.23124, ...   \n",
      "3   A804309  510 E FAWNRIDGE DRIVE\\nAUSTIN 78753\\n(30.35703...   \n",
      "4   A786445  5201 BERKMAN\\nAUSTIN 78723\\n(30.305083, -97.69...   \n",
      "\n",
      "                      At AAC Intake Date Type                    Looks Like  \\\n",
      "0  Yes (come to the shelter)     9/13/19  Dog                  Pit Bull Mix   \n",
      "1  Yes (come to the shelter)     9/11/19  Cat            Domestic Shorthair   \n",
      "2  Yes (come to the shelter)     9/17/19  Dog               German Shepherd   \n",
      "3  Yes (come to the shelter)     9/13/19  Dog  Dachshund/Chihuahua Longhair   \n",
      "4  Yes (come to the shelter)     9/14/19  Dog                  Pit Bull Mix   \n",
      "\n",
      "               Color            Sex      Age  \\\n",
      "0        White/Brown  Spayed Female   1 year   \n",
      "1  Brown Tabby/White    Intact Male  2 years   \n",
      "2        Brown/Black    Intact Male   1 year   \n",
      "3              Brown    Intact Male  5 years   \n",
      "4        White/Brown    Intact Male  2 years   \n",
      "\n",
      "                                          Image Link  \n",
      "0  http://www.petharbor.com/pet.asp?uaid=ASTN.A79...  \n",
      "1  http://www.petharbor.com/pet.asp?uaid=ASTN.A80...  \n",
      "2  http://www.petharbor.com/pet.asp?uaid=ASTN.A80...  \n",
      "3  http://www.petharbor.com/pet.asp?uaid=ASTN.A80...  \n",
      "4  http://www.petharbor.com/pet.asp?uaid=ASTN.A78...  \n"
     ]
    }
   ],
   "source": [
    "#Make sure the data is read\n",
    "if debug_flag:\n",
    "    print(data_animal.head())"
   ]
  },
  {
   "cell_type": "code",
   "execution_count": 5,
   "metadata": {},
   "outputs": [],
   "source": [
    "#Adding a new column for coordinates spliting from Found location\n",
    "for index, row in data_animal.iterrows():\n",
    "    pos = row[\"Found Location\"].find('(')\n",
    "    if pos>-1:\n",
    "        coord = row[\"Found Location\"][pos+1:-1]\n",
    "        data_animal.loc[index,\"Coordinates\"] = coord"
   ]
  },
  {
   "cell_type": "code",
   "execution_count": 6,
   "metadata": {},
   "outputs": [
    {
     "name": "stdout",
     "output_type": "stream",
     "text": [
      "  Animal ID                                     Found Location  \\\n",
      "0   A793052  2005 WILLOW CREEK DR\\nAUSTIN 78741\\n(30.232387...   \n",
      "1   A804218  UNIVERSITY CLUB DRIVE AUSTIN 78732\\n(30.370203...   \n",
      "2   A804654  4434 FRONTIER TRAIL\\nAUSTIN 78745\\n(30.23124, ...   \n",
      "3   A804309  510 E FAWNRIDGE DRIVE\\nAUSTIN 78753\\n(30.35703...   \n",
      "4   A786445  5201 BERKMAN\\nAUSTIN 78723\\n(30.305083, -97.69...   \n",
      "\n",
      "                      At AAC Intake Date Type                    Looks Like  \\\n",
      "0  Yes (come to the shelter)     9/13/19  Dog                  Pit Bull Mix   \n",
      "1  Yes (come to the shelter)     9/11/19  Cat            Domestic Shorthair   \n",
      "2  Yes (come to the shelter)     9/17/19  Dog               German Shepherd   \n",
      "3  Yes (come to the shelter)     9/13/19  Dog  Dachshund/Chihuahua Longhair   \n",
      "4  Yes (come to the shelter)     9/14/19  Dog                  Pit Bull Mix   \n",
      "\n",
      "               Color            Sex      Age  \\\n",
      "0        White/Brown  Spayed Female   1 year   \n",
      "1  Brown Tabby/White    Intact Male  2 years   \n",
      "2        Brown/Black    Intact Male   1 year   \n",
      "3              Brown    Intact Male  5 years   \n",
      "4        White/Brown    Intact Male  2 years   \n",
      "\n",
      "                                          Image Link            Coordinates  \n",
      "0  http://www.petharbor.com/pet.asp?uaid=ASTN.A79...  30.232387, -97.729292  \n",
      "1  http://www.petharbor.com/pet.asp?uaid=ASTN.A80...  30.370203, -97.897807  \n",
      "2  http://www.petharbor.com/pet.asp?uaid=ASTN.A80...   30.23124, -97.795476  \n",
      "3  http://www.petharbor.com/pet.asp?uaid=ASTN.A80...  30.357031, -97.692091  \n",
      "4  http://www.petharbor.com/pet.asp?uaid=ASTN.A78...   30.305083, -97.69814  \n"
     ]
    }
   ],
   "source": [
    "#Displayin gthe new data\n",
    "if debug_flag:\n",
    "    print(data_animal.head())"
   ]
  },
  {
   "cell_type": "code",
   "execution_count": 7,
   "metadata": {},
   "outputs": [],
   "source": [
    "#Splitting the coordinates by comma to generate a separate data set for longitud and lattitude\n",
    "test=data_animal[\"Coordinates\"].str.split(\", \",  expand = True)\n",
    "test.rename(columns={0: \"lon\", 1: \"lat\"},inplace=True)"
   ]
  },
  {
   "cell_type": "code",
   "execution_count": 8,
   "metadata": {},
   "outputs": [
    {
     "name": "stdout",
     "output_type": "stream",
     "text": [
      "         lon         lat\n",
      "0  30.232387  -97.729292\n",
      "1  30.370203  -97.897807\n",
      "2   30.23124  -97.795476\n",
      "3  30.357031  -97.692091\n",
      "4  30.305083   -97.69814\n"
     ]
    }
   ],
   "source": [
    "#Showing the data\n",
    "if debug_flag:\n",
    "    print(test.head())"
   ]
  },
  {
   "cell_type": "code",
   "execution_count": 9,
   "metadata": {},
   "outputs": [],
   "source": [
    "#Geeeitn the address and splited for further merging\n",
    "data_to_concat = data_animal['Found Location'].apply(lambda location: location.split('\\n'))\n",
    "addresses = [row[0] for row in data_to_concat]\n",
    "address_df = pd.DataFrame({\"addresses\":addresses})\n",
    "\n",
    "#Get the animal information\n",
    "look_like_df = pd.DataFrame({\"LooksLike\":data_animal[\"Looks Like\"]})"
   ]
  },
  {
   "cell_type": "code",
   "execution_count": 10,
   "metadata": {},
   "outputs": [
    {
     "data": {
      "text/html": [
       "<div>\n",
       "<style scoped>\n",
       "    .dataframe tbody tr th:only-of-type {\n",
       "        vertical-align: middle;\n",
       "    }\n",
       "\n",
       "    .dataframe tbody tr th {\n",
       "        vertical-align: top;\n",
       "    }\n",
       "\n",
       "    .dataframe thead th {\n",
       "        text-align: right;\n",
       "    }\n",
       "</style>\n",
       "<table border=\"1\" class=\"dataframe\">\n",
       "  <thead>\n",
       "    <tr style=\"text-align: right;\">\n",
       "      <th></th>\n",
       "      <th>lon</th>\n",
       "      <th>lat</th>\n",
       "      <th>addresses</th>\n",
       "      <th>LooksLike</th>\n",
       "    </tr>\n",
       "  </thead>\n",
       "  <tbody>\n",
       "    <tr>\n",
       "      <th>0</th>\n",
       "      <td>30.232387</td>\n",
       "      <td>-97.729292</td>\n",
       "      <td>2005 WILLOW CREEK DR</td>\n",
       "      <td>Pit Bull Mix</td>\n",
       "    </tr>\n",
       "    <tr>\n",
       "      <th>1</th>\n",
       "      <td>30.370203</td>\n",
       "      <td>-97.897807</td>\n",
       "      <td>UNIVERSITY CLUB DRIVE AUSTIN 78732</td>\n",
       "      <td>Domestic Shorthair</td>\n",
       "    </tr>\n",
       "    <tr>\n",
       "      <th>2</th>\n",
       "      <td>30.23124</td>\n",
       "      <td>-97.795476</td>\n",
       "      <td>4434 FRONTIER TRAIL</td>\n",
       "      <td>German Shepherd</td>\n",
       "    </tr>\n",
       "    <tr>\n",
       "      <th>3</th>\n",
       "      <td>30.357031</td>\n",
       "      <td>-97.692091</td>\n",
       "      <td>510 E FAWNRIDGE DRIVE</td>\n",
       "      <td>Dachshund/Chihuahua Longhair</td>\n",
       "    </tr>\n",
       "    <tr>\n",
       "      <th>4</th>\n",
       "      <td>30.305083</td>\n",
       "      <td>-97.69814</td>\n",
       "      <td>5201 BERKMAN</td>\n",
       "      <td>Pit Bull Mix</td>\n",
       "    </tr>\n",
       "  </tbody>\n",
       "</table>\n",
       "</div>"
      ],
      "text/plain": [
       "         lon         lat                           addresses  \\\n",
       "0  30.232387  -97.729292                2005 WILLOW CREEK DR   \n",
       "1  30.370203  -97.897807  UNIVERSITY CLUB DRIVE AUSTIN 78732   \n",
       "2   30.23124  -97.795476                 4434 FRONTIER TRAIL   \n",
       "3  30.357031  -97.692091               510 E FAWNRIDGE DRIVE   \n",
       "4  30.305083   -97.69814                        5201 BERKMAN   \n",
       "\n",
       "                      LooksLike  \n",
       "0                  Pit Bull Mix  \n",
       "1            Domestic Shorthair  \n",
       "2               German Shepherd  \n",
       "3  Dachshund/Chihuahua Longhair  \n",
       "4                  Pit Bull Mix  "
      ]
     },
     "execution_count": 10,
     "metadata": {},
     "output_type": "execute_result"
    }
   ],
   "source": [
    "#Concat the data\n",
    "map_to_js_df = pd.concat([test,address_df,look_like_df], axis=1, join='inner')\n",
    "map_to_js_df.dropna(how='all',inplace=True)\n",
    "map_to_js_df.head()"
   ]
  },
  {
   "cell_type": "code",
   "execution_count": 11,
   "metadata": {},
   "outputs": [],
   "source": [
    "map_to_js_df.to_csv('shelters_coordinates_austin_updated.csv')"
   ]
  }
 ],
 "metadata": {
  "kernelspec": {
   "display_name": "Python 3",
   "language": "python",
   "name": "python3"
  },
  "language_info": {
   "codemirror_mode": {
    "name": "ipython",
    "version": 3
   },
   "file_extension": ".py",
   "mimetype": "text/x-python",
   "name": "python",
   "nbconvert_exporter": "python",
   "pygments_lexer": "ipython3",
   "version": "3.6.8"
  }
 },
 "nbformat": 4,
 "nbformat_minor": 2
}

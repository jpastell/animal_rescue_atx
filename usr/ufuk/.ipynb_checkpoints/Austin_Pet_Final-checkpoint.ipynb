{
 "cells": [
  {
   "cell_type": "code",
   "execution_count": null,
   "metadata": {},
   "outputs": [
    {
     "name": "stdout",
     "output_type": "stream",
     "text": [
      "Collecting sodapy\n",
      "  Downloading https://files.pythonhosted.org/packages/ae/e9/99b640c13544f03fc8d169fc99811d834a0d69ba5a69c68a3e891962ae5d/sodapy-1.5.4-py2.py3-none-any.whl\n",
      "Collecting future>=0.17.1 (from sodapy)\n",
      "  Using cached https://files.pythonhosted.org/packages/90/52/e20466b85000a181e1e144fd8305caf2cf475e2f9674e797b222f8105f5f/future-0.17.1.tar.gz\n",
      "Requirement already satisfied: requests>=2.20.0 in c:\\users\\barbe\\appdata\\local\\continuum\\anaconda3\\envs\\deep_learning\\lib\\site-packages (from sodapy) (2.22.0)\n",
      "Requirement already satisfied: chardet<3.1.0,>=3.0.2 in c:\\users\\barbe\\appdata\\local\\continuum\\anaconda3\\envs\\deep_learning\\lib\\site-packages (from requests>=2.20.0->sodapy) (3.0.4)\n",
      "Requirement already satisfied: urllib3!=1.25.0,!=1.25.1,<1.26,>=1.21.1 in c:\\users\\barbe\\appdata\\local\\continuum\\anaconda3\\envs\\deep_learning\\lib\\site-packages (from requests>=2.20.0->sodapy) (1.24.2)\n",
      "Requirement already satisfied: certifi>=2017.4.17 in c:\\users\\barbe\\appdata\\local\\continuum\\anaconda3\\envs\\deep_learning\\lib\\site-packages (from requests>=2.20.0->sodapy) (2019.6.16)\n",
      "Requirement already satisfied: idna<2.9,>=2.5 in c:\\users\\barbe\\appdata\\local\\continuum\\anaconda3\\envs\\deep_learning\\lib\\site-packages (from requests>=2.20.0->sodapy) (2.8)\n",
      "Building wheels for collected packages: future\n",
      "  Building wheel for future (setup.py): started\n",
      "  Building wheel for future (setup.py): finished with status 'done'\n",
      "  Stored in directory: C:\\Users\\barbe\\AppData\\Local\\pip\\Cache\\wheels\\0c\\61\\d2\\d6b7317325828fbb39ee6ad559dbe4664d0896da4721bf379e\n",
      "Successfully built future\n",
      "Installing collected packages: future, sodapy\n",
      "Successfully installed future-0.17.1 sodapy-1.5.4\n"
     ]
    }
   ],
   "source": [
    "!pip install sodapy\n",
    "%matplotlib notebook\n",
    "\n",
    "import pandas as pd \n",
    "import numpy as np\n",
    "import requests\n",
    "import random\n",
    "import json\n",
    "from pprint import pprint\n",
    "import dateutil\n",
    "import datetime\n",
    "import matplotlib.pyplot as plt\n",
    "import numpy as np"
   ]
  },
  {
   "cell_type": "code",
   "execution_count": null,
   "metadata": {},
   "outputs": [],
   "source": [
    "!cd"
   ]
  },
  {
   "cell_type": "code",
   "execution_count": null,
   "metadata": {},
   "outputs": [],
   "source": [
    "austin_pet = \"Austin_Animal_Center_Outcomes.csv\"\n",
    "\n",
    "austin_pet"
   ]
  },
  {
   "cell_type": "code",
   "execution_count": null,
   "metadata": {},
   "outputs": [],
   "source": [
    "austin_pet_df = pd.read_csv(austin_pet)"
   ]
  },
  {
   "cell_type": "code",
   "execution_count": null,
   "metadata": {},
   "outputs": [],
   "source": [
    "#austin_pet_df.head()\n",
    "austin_pet_df ['Date'] = austin_pet_df['MonthYear'].str[0:10]\n"
   ]
  },
  {
   "cell_type": "code",
   "execution_count": null,
   "metadata": {
    "scrolled": true
   },
   "outputs": [],
   "source": [
    "#Only dogs\n",
    "columns_to_keep = [\"Animal Type\", \"Breed\", \"Outcome Type\", \"Color\", \"Date\"]  \n",
    "\n",
    "# List of columns to keep in dataframe\n",
    "groupby_dog_db= austin_pet_df[columns_to_keep][(austin_pet_df['Animal Type']=='Dog') & \n",
    "                                               (austin_pet_df['Outcome Type']=='Transfer') |\n",
    "                                               (austin_pet_df['Outcome Type']=='Euthanasia') |\n",
    "                                               (austin_pet_df['Outcome Type']=='Died') |\n",
    "                                               (austin_pet_df['Outcome Type']=='Adoption') |\n",
    "                                               (austin_pet_df['Outcome Type']=='Return to Owner')]\n",
    "groupby_dog_db.head()\n"
   ]
  },
  {
   "cell_type": "code",
   "execution_count": null,
   "metadata": {},
   "outputs": [],
   "source": [
    "#Color Value Count\n",
    "groupby_dog_db.Color.value_counts()"
   ]
  },
  {
   "cell_type": "code",
   "execution_count": null,
   "metadata": {},
   "outputs": [],
   "source": [
    "groupby_dog_db.Breed.value_counts()[:5]"
   ]
  },
  {
   "cell_type": "code",
   "execution_count": null,
   "metadata": {
    "scrolled": false
   },
   "outputs": [],
   "source": [
    "groupby_dog_db[\"Outcome Type\"].value_counts()"
   ]
  },
  {
   "cell_type": "code",
   "execution_count": null,
   "metadata": {},
   "outputs": [],
   "source": [
    "ranked_breeds = groupby_dog_db.groupby(['Breed', 'Outcome Type', 'Color']).count().reset_index()\n",
    "ranked_breeds.sort_values(by=['Animal Type'], ascending=False)\n",
    "# ranked_breeds.sort_values(by=['Animal Type', 'Breed'], inplace=True, ascending=False)\n",
    "# ranked_breeds_graph = ranked_breeds.iloc[:50]\n",
    "# ranked_breeds_graph"
   ]
  },
  {
   "cell_type": "code",
   "execution_count": null,
   "metadata": {},
   "outputs": [],
   "source": [
    "# ranked_breeds = groupby_dog_db.groupby(['Outcome Type', 'Color']).count().reset_index()\n",
    "# ranked_breeds.sort_values(by=['Animal Type'], ascending=False)\n",
    "# adoption_color_top10 = (ranked_breeds[ranked_breeds[\"Outcome Type\"]=='Adoption']).sort_values(by=['Breed'], ascending=False)[:10]\n",
    "# adoption_color_top10.head()"
   ]
  },
  {
   "cell_type": "code",
   "execution_count": null,
   "metadata": {},
   "outputs": [],
   "source": [
    "ranked_breeds = groupby_dog_db.groupby(['Outcome Type', 'Color']).count().reset_index()\n",
    "ranked_breeds.sort_values(by=['Animal Type'], ascending=False)\n",
    "adoption_color_top10 = (ranked_breeds[ranked_breeds[\"Outcome Type\"]=='Adoption']).sort_values(by=['Breed'], ascending=False)[:10]\n",
    "adoption_color_top10.head()"
   ]
  },
  {
   "cell_type": "code",
   "execution_count": null,
   "metadata": {},
   "outputs": [],
   "source": [
    "adoption_color_top10 =adoption_color_top10.drop(\"Breed\",1)"
   ]
  },
  {
   "cell_type": "code",
   "execution_count": null,
   "metadata": {},
   "outputs": [],
   "source": [
    "adoption_color_top10=adoption_color_top10.rename(columns={'Animal Type':'Count'})"
   ]
  },
  {
   "cell_type": "code",
   "execution_count": null,
   "metadata": {
    "scrolled": true
   },
   "outputs": [],
   "source": [
    "adoption_color_top10"
   ]
  },
  {
   "cell_type": "code",
   "execution_count": null,
   "metadata": {},
   "outputs": [],
   "source": []
  },
  {
   "cell_type": "code",
   "execution_count": null,
   "metadata": {
    "scrolled": true
   },
   "outputs": [],
   "source": [
    "for lab in adoption_color_top10.Color:\n",
    "    print(lab)"
   ]
  },
  {
   "cell_type": "code",
   "execution_count": null,
   "metadata": {},
   "outputs": [],
   "source": [
    "sizes = []\n",
    "\n",
    "for x in adoption_color_top10.Count:\n",
    "    sizes.append(x)"
   ]
  },
  {
   "cell_type": "code",
   "execution_count": null,
   "metadata": {},
   "outputs": [],
   "source": [
    "sizes"
   ]
  },
  {
   "cell_type": "code",
   "execution_count": null,
   "metadata": {},
   "outputs": [],
   "source": [
    "labels = []\n",
    "for x in adoption_color_top10.Color:\n",
    "    labels.append(f\"{x}\")"
   ]
  },
  {
   "cell_type": "code",
   "execution_count": null,
   "metadata": {
    "scrolled": true
   },
   "outputs": [],
   "source": [
    "labels"
   ]
  },
  {
   "cell_type": "code",
   "execution_count": null,
   "metadata": {},
   "outputs": [],
   "source": [
    "# labels = 'Black/White','Black','Brown Tabby','Tan/White','Brown/White','Brown Tabby/White','White','White/Black','Blue/White','Tan'\n",
    "# sizes = [5276, 3722, 2643, 1623, 1572, 1472, 1425, 1362, 1330, 1275]"
   ]
  },
  {
   "cell_type": "code",
   "execution_count": null,
   "metadata": {},
   "outputs": [],
   "source": [
    "#Adaptotion Color Percentage\n",
    "\n",
    "import matplotlib.pyplot as plt\n",
    "\n",
    "lables = adoption_color_top10.Color\n",
    "sizes = adoption_color_top10.Count\n",
    "\n",
    "explode = (0.1, 0, 0, 0, 0, 0, 0, 0, 0, 0)\n",
    "\n",
    "fig1, ax1 = plt.subplots()\n",
    "\n",
    "ax1.pie(sizes, explode=explode, labels=labels, autopct = '%1.1f%%', shadow=True, startangle=90)\n",
    "\n",
    "ax1.axis('equal')\n",
    "\n",
    "plt.show()"
   ]
  },
  {
   "cell_type": "code",
   "execution_count": null,
   "metadata": {},
   "outputs": [],
   "source": [
    "ranked_breeds = groupby_dog_db.groupby(['Breed', 'Outcome Type']).count().reset_index()\n",
    "ranked_breeds.sort_values(by=['Animal Type', 'Breed'], inplace=True, ascending=False)\n",
    "ranked_breeds_graph = ranked_breeds.iloc[:15]\n",
    "ranked_breeds_graph.head()"
   ]
  },
  {
   "cell_type": "code",
   "execution_count": null,
   "metadata": {},
   "outputs": [],
   "source": [
    "ranked_breeds = groupby_dog_db.groupby(['Outcome Type']).count().reset_index()\n",
    "ranked_breeds.sort_values(by=['Animal Type', 'Breed'], inplace=True, ascending=False)\n",
    "ranked_breeds_graph = ranked_breeds.iloc[:15]\n",
    "ranked_breeds_graph.head()"
   ]
  },
  {
   "cell_type": "code",
   "execution_count": null,
   "metadata": {},
   "outputs": [],
   "source": [
    "import seaborn as sns\n",
    "plt.figure(figsize=(10,5))\n",
    "\n",
    "chart = sns.barplot(ranked_breeds_graph['Outcome Type'], ranked_breeds_graph['Animal Type'], hue=ranked_breeds_graph['Breed'])\n",
    "chart.set_xticklabels(chart.get_xticklabels(), rotation=84)\n",
    "plt.xticks(ha='right')\n",
    "plt.tight_layout()\n",
    "plt.show()"
   ]
  },
  {
   "cell_type": "code",
   "execution_count": null,
   "metadata": {},
   "outputs": [],
   "source": [
    "# Graph dog type vs count by Outcome Type\n",
    "import seaborn as sns\n",
    "plt.figure(figsize=(10,5))\n",
    "\n",
    "chart = sns.barplot(ranked_breeds_graph['Breed'], ranked_breeds_graph['Animal Type'], hue=ranked_breeds_graph['Outcome Type'])\n",
    "chart.set_xticklabels(chart.get_xticklabels(), rotation=84)\n",
    "plt.xticks(ha='right')\n",
    "plt.tight_layout()\n",
    "plt.show()"
   ]
  },
  {
   "cell_type": "code",
   "execution_count": null,
   "metadata": {},
   "outputs": [],
   "source": [
    "groupby_dog_outcome_db= austin_pet_df[[\"Animal Type\", \"Breed\", \"Outcome Subtype\", \"Outcome Type\"]][austin_pet_df['Animal Type']=='Dog']\n",
    "groupby_dog_db.head()"
   ]
  },
  {
   "cell_type": "code",
   "execution_count": null,
   "metadata": {},
   "outputs": [],
   "source": [
    "len(groupby_dog_db)"
   ]
  },
  {
   "cell_type": "code",
   "execution_count": null,
   "metadata": {},
   "outputs": [],
   "source": [
    "len(groupby_dog_db.Breed.unique())"
   ]
  },
  {
   "cell_type": "code",
   "execution_count": null,
   "metadata": {},
   "outputs": [],
   "source": [
    "bar_plot_db = pd.DataFrame(groupby_dog_db.Breed.value_counts()).reset_index()\n",
    "bar_plot_db = bar_plot_db.rename(columns={\n",
    "    'index':'breed',\n",
    "    'Breed':'count'\n",
    "})\n",
    "bar_plot_db = bar_plot_db.loc[:9]\n",
    "len(bar_plot_db)"
   ]
  },
  {
   "cell_type": "code",
   "execution_count": null,
   "metadata": {},
   "outputs": [],
   "source": [
    "bar_plot_db.info()"
   ]
  },
  {
   "cell_type": "code",
   "execution_count": null,
   "metadata": {},
   "outputs": [],
   "source": [
    "bar_plot_db.breed"
   ]
  },
  {
   "cell_type": "code",
   "execution_count": null,
   "metadata": {},
   "outputs": [],
   "source": [
    "obj = []\n",
    "for i in bar_plot_db.breed:\n",
    "    obj.append(f'{i}')\n",
    "    "
   ]
  },
  {
   "cell_type": "code",
   "execution_count": null,
   "metadata": {},
   "outputs": [],
   "source": [
    "obj"
   ]
  },
  {
   "cell_type": "code",
   "execution_count": null,
   "metadata": {
    "scrolled": true
   },
   "outputs": [],
   "source": [
    "objects = (bar_plot_db.breed)\n",
    "y_pos = np.arange(len(obj))\n",
    "performance = [10,8,6,4,2,1]\n",
    "\n",
    "plt.bar(y_pos, obj, align='center', alpha=0.5)\n",
    "plt.xticks(y_pos, obj, rotation=45)\n",
    "plt.ylabel('Usage')\n",
    "plt.title('Austin Pet Outcomes')\n",
    "\n",
    "plt.show()"
   ]
  },
  {
   "cell_type": "code",
   "execution_count": null,
   "metadata": {},
   "outputs": [],
   "source": [
    "df_test = (groupby_dog_db.groupby(['Breed','Outcome Type']).count()).reset_index()\n",
    "df_test = df_test.rename(columns={\n",
    "    'Animal Type': 'count'\n",
    "})\n",
    "df_test.head()"
   ]
  },
  {
   "cell_type": "code",
   "execution_count": null,
   "metadata": {
    "scrolled": true
   },
   "outputs": [],
   "source": [
    "#Only Dogs\n",
    "austin_pet_dog_df = austin_pet_df[austin_pet_df['Animal Type']=='Dog']\n",
    "austin_pet_dog_df "
   ]
  },
  {
   "cell_type": "code",
   "execution_count": null,
   "metadata": {},
   "outputs": [],
   "source": []
  }
 ],
 "metadata": {
  "kernelspec": {
   "display_name": "Python 3",
   "language": "python",
   "name": "python3"
  },
  "language_info": {
   "codemirror_mode": {
    "name": "ipython",
    "version": 3
   },
   "file_extension": ".py",
   "mimetype": "text/x-python",
   "name": "python",
   "nbconvert_exporter": "python",
   "pygments_lexer": "ipython3",
   "version": "3.7.3"
  }
 },
 "nbformat": 4,
 "nbformat_minor": 2
}
